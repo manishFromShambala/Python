{
  "nbformat": 4,
  "nbformat_minor": 0,
  "metadata": {
    "colab": {
      "provenance": [],
      "collapsed_sections": []
    },
    "kernelspec": {
      "name": "python3",
      "display_name": "Python 3"
    },
    "language_info": {
      "name": "python"
    }
  },
  "cells": [
    {
      "cell_type": "code",
      "execution_count": null,
      "metadata": {
        "id": "o5jcDjLUa0dU"
      },
      "outputs": [],
      "source": [
        "import numpy as np\n",
        "import pandas as pd\n",
        "import matplotlib.pyplot as plt"
      ]
    },
    {
      "cell_type": "code",
      "source": [
        "from google.colab import drive\n",
        "drive.mount('/content/drive')"
      ],
      "metadata": {
        "id": "O_BcsuzQ5n-I"
      },
      "execution_count": null,
      "outputs": []
    },
    {
      "cell_type": "code",
      "source": [
        "df=pd.read_csv('/content/MSF-Features.csv')\n",
        "print(df)\n"
      ],
      "metadata": {
        "colab": {
          "base_uri": "https://localhost:8080/",
          "height": 328
        },
        "id": "7Yd9flN3a-AW",
        "outputId": "532e438d-0319-461a-8590-95dee6153f99"
      },
      "execution_count": null,
      "outputs": [
        {
          "output_type": "error",
          "ename": "FileNotFoundError",
          "evalue": "ignored",
          "traceback": [
            "\u001b[0;31m---------------------------------------------------------------------------\u001b[0m",
            "\u001b[0;31mFileNotFoundError\u001b[0m                         Traceback (most recent call last)",
            "\u001b[0;32m<ipython-input-9-00480ad345c9>\u001b[0m in \u001b[0;36m<module>\u001b[0;34m()\u001b[0m\n\u001b[0;32m----> 1\u001b[0;31m \u001b[0mdf\u001b[0m\u001b[0;34m=\u001b[0m\u001b[0mpd\u001b[0m\u001b[0;34m.\u001b[0m\u001b[0mread_csv\u001b[0m\u001b[0;34m(\u001b[0m\u001b[0;34m'/content/MSF-Features.csv'\u001b[0m\u001b[0;34m)\u001b[0m\u001b[0;34m\u001b[0m\u001b[0;34m\u001b[0m\u001b[0m\n\u001b[0m\u001b[1;32m      2\u001b[0m \u001b[0mprint\u001b[0m\u001b[0;34m(\u001b[0m\u001b[0mdf\u001b[0m\u001b[0;34m)\u001b[0m\u001b[0;34m\u001b[0m\u001b[0;34m\u001b[0m\u001b[0m\n",
            "\u001b[0;32m/usr/local/lib/python3.7/dist-packages/pandas/util/_decorators.py\u001b[0m in \u001b[0;36mwrapper\u001b[0;34m(*args, **kwargs)\u001b[0m\n\u001b[1;32m    309\u001b[0m                     \u001b[0mstacklevel\u001b[0m\u001b[0;34m=\u001b[0m\u001b[0mstacklevel\u001b[0m\u001b[0;34m,\u001b[0m\u001b[0;34m\u001b[0m\u001b[0;34m\u001b[0m\u001b[0m\n\u001b[1;32m    310\u001b[0m                 )\n\u001b[0;32m--> 311\u001b[0;31m             \u001b[0;32mreturn\u001b[0m \u001b[0mfunc\u001b[0m\u001b[0;34m(\u001b[0m\u001b[0;34m*\u001b[0m\u001b[0margs\u001b[0m\u001b[0;34m,\u001b[0m \u001b[0;34m**\u001b[0m\u001b[0mkwargs\u001b[0m\u001b[0;34m)\u001b[0m\u001b[0;34m\u001b[0m\u001b[0;34m\u001b[0m\u001b[0m\n\u001b[0m\u001b[1;32m    312\u001b[0m \u001b[0;34m\u001b[0m\u001b[0m\n\u001b[1;32m    313\u001b[0m         \u001b[0;32mreturn\u001b[0m \u001b[0mwrapper\u001b[0m\u001b[0;34m\u001b[0m\u001b[0;34m\u001b[0m\u001b[0m\n",
            "\u001b[0;32m/usr/local/lib/python3.7/dist-packages/pandas/io/parsers/readers.py\u001b[0m in \u001b[0;36mread_csv\u001b[0;34m(filepath_or_buffer, sep, delimiter, header, names, index_col, usecols, squeeze, prefix, mangle_dupe_cols, dtype, engine, converters, true_values, false_values, skipinitialspace, skiprows, skipfooter, nrows, na_values, keep_default_na, na_filter, verbose, skip_blank_lines, parse_dates, infer_datetime_format, keep_date_col, date_parser, dayfirst, cache_dates, iterator, chunksize, compression, thousands, decimal, lineterminator, quotechar, quoting, doublequote, escapechar, comment, encoding, encoding_errors, dialect, error_bad_lines, warn_bad_lines, on_bad_lines, delim_whitespace, low_memory, memory_map, float_precision, storage_options)\u001b[0m\n\u001b[1;32m    584\u001b[0m     \u001b[0mkwds\u001b[0m\u001b[0;34m.\u001b[0m\u001b[0mupdate\u001b[0m\u001b[0;34m(\u001b[0m\u001b[0mkwds_defaults\u001b[0m\u001b[0;34m)\u001b[0m\u001b[0;34m\u001b[0m\u001b[0;34m\u001b[0m\u001b[0m\n\u001b[1;32m    585\u001b[0m \u001b[0;34m\u001b[0m\u001b[0m\n\u001b[0;32m--> 586\u001b[0;31m     \u001b[0;32mreturn\u001b[0m \u001b[0m_read\u001b[0m\u001b[0;34m(\u001b[0m\u001b[0mfilepath_or_buffer\u001b[0m\u001b[0;34m,\u001b[0m \u001b[0mkwds\u001b[0m\u001b[0;34m)\u001b[0m\u001b[0;34m\u001b[0m\u001b[0;34m\u001b[0m\u001b[0m\n\u001b[0m\u001b[1;32m    587\u001b[0m \u001b[0;34m\u001b[0m\u001b[0m\n\u001b[1;32m    588\u001b[0m \u001b[0;34m\u001b[0m\u001b[0m\n",
            "\u001b[0;32m/usr/local/lib/python3.7/dist-packages/pandas/io/parsers/readers.py\u001b[0m in \u001b[0;36m_read\u001b[0;34m(filepath_or_buffer, kwds)\u001b[0m\n\u001b[1;32m    480\u001b[0m \u001b[0;34m\u001b[0m\u001b[0m\n\u001b[1;32m    481\u001b[0m     \u001b[0;31m# Create the parser.\u001b[0m\u001b[0;34m\u001b[0m\u001b[0;34m\u001b[0m\u001b[0;34m\u001b[0m\u001b[0m\n\u001b[0;32m--> 482\u001b[0;31m     \u001b[0mparser\u001b[0m \u001b[0;34m=\u001b[0m \u001b[0mTextFileReader\u001b[0m\u001b[0;34m(\u001b[0m\u001b[0mfilepath_or_buffer\u001b[0m\u001b[0;34m,\u001b[0m \u001b[0;34m**\u001b[0m\u001b[0mkwds\u001b[0m\u001b[0;34m)\u001b[0m\u001b[0;34m\u001b[0m\u001b[0;34m\u001b[0m\u001b[0m\n\u001b[0m\u001b[1;32m    483\u001b[0m \u001b[0;34m\u001b[0m\u001b[0m\n\u001b[1;32m    484\u001b[0m     \u001b[0;32mif\u001b[0m \u001b[0mchunksize\u001b[0m \u001b[0;32mor\u001b[0m \u001b[0miterator\u001b[0m\u001b[0;34m:\u001b[0m\u001b[0;34m\u001b[0m\u001b[0;34m\u001b[0m\u001b[0m\n",
            "\u001b[0;32m/usr/local/lib/python3.7/dist-packages/pandas/io/parsers/readers.py\u001b[0m in \u001b[0;36m__init__\u001b[0;34m(self, f, engine, **kwds)\u001b[0m\n\u001b[1;32m    809\u001b[0m             \u001b[0mself\u001b[0m\u001b[0;34m.\u001b[0m\u001b[0moptions\u001b[0m\u001b[0;34m[\u001b[0m\u001b[0;34m\"has_index_names\"\u001b[0m\u001b[0;34m]\u001b[0m \u001b[0;34m=\u001b[0m \u001b[0mkwds\u001b[0m\u001b[0;34m[\u001b[0m\u001b[0;34m\"has_index_names\"\u001b[0m\u001b[0;34m]\u001b[0m\u001b[0;34m\u001b[0m\u001b[0;34m\u001b[0m\u001b[0m\n\u001b[1;32m    810\u001b[0m \u001b[0;34m\u001b[0m\u001b[0m\n\u001b[0;32m--> 811\u001b[0;31m         \u001b[0mself\u001b[0m\u001b[0;34m.\u001b[0m\u001b[0m_engine\u001b[0m \u001b[0;34m=\u001b[0m \u001b[0mself\u001b[0m\u001b[0;34m.\u001b[0m\u001b[0m_make_engine\u001b[0m\u001b[0;34m(\u001b[0m\u001b[0mself\u001b[0m\u001b[0;34m.\u001b[0m\u001b[0mengine\u001b[0m\u001b[0;34m)\u001b[0m\u001b[0;34m\u001b[0m\u001b[0;34m\u001b[0m\u001b[0m\n\u001b[0m\u001b[1;32m    812\u001b[0m \u001b[0;34m\u001b[0m\u001b[0m\n\u001b[1;32m    813\u001b[0m     \u001b[0;32mdef\u001b[0m \u001b[0mclose\u001b[0m\u001b[0;34m(\u001b[0m\u001b[0mself\u001b[0m\u001b[0;34m)\u001b[0m\u001b[0;34m:\u001b[0m\u001b[0;34m\u001b[0m\u001b[0;34m\u001b[0m\u001b[0m\n",
            "\u001b[0;32m/usr/local/lib/python3.7/dist-packages/pandas/io/parsers/readers.py\u001b[0m in \u001b[0;36m_make_engine\u001b[0;34m(self, engine)\u001b[0m\n\u001b[1;32m   1038\u001b[0m             )\n\u001b[1;32m   1039\u001b[0m         \u001b[0;31m# error: Too many arguments for \"ParserBase\"\u001b[0m\u001b[0;34m\u001b[0m\u001b[0;34m\u001b[0m\u001b[0;34m\u001b[0m\u001b[0m\n\u001b[0;32m-> 1040\u001b[0;31m         \u001b[0;32mreturn\u001b[0m \u001b[0mmapping\u001b[0m\u001b[0;34m[\u001b[0m\u001b[0mengine\u001b[0m\u001b[0;34m]\u001b[0m\u001b[0;34m(\u001b[0m\u001b[0mself\u001b[0m\u001b[0;34m.\u001b[0m\u001b[0mf\u001b[0m\u001b[0;34m,\u001b[0m \u001b[0;34m**\u001b[0m\u001b[0mself\u001b[0m\u001b[0;34m.\u001b[0m\u001b[0moptions\u001b[0m\u001b[0;34m)\u001b[0m  \u001b[0;31m# type: ignore[call-arg]\u001b[0m\u001b[0;34m\u001b[0m\u001b[0;34m\u001b[0m\u001b[0m\n\u001b[0m\u001b[1;32m   1041\u001b[0m \u001b[0;34m\u001b[0m\u001b[0m\n\u001b[1;32m   1042\u001b[0m     \u001b[0;32mdef\u001b[0m \u001b[0m_failover_to_python\u001b[0m\u001b[0;34m(\u001b[0m\u001b[0mself\u001b[0m\u001b[0;34m)\u001b[0m\u001b[0;34m:\u001b[0m\u001b[0;34m\u001b[0m\u001b[0;34m\u001b[0m\u001b[0m\n",
            "\u001b[0;32m/usr/local/lib/python3.7/dist-packages/pandas/io/parsers/c_parser_wrapper.py\u001b[0m in \u001b[0;36m__init__\u001b[0;34m(self, src, **kwds)\u001b[0m\n\u001b[1;32m     49\u001b[0m \u001b[0;34m\u001b[0m\u001b[0m\n\u001b[1;32m     50\u001b[0m         \u001b[0;31m# open handles\u001b[0m\u001b[0;34m\u001b[0m\u001b[0;34m\u001b[0m\u001b[0;34m\u001b[0m\u001b[0m\n\u001b[0;32m---> 51\u001b[0;31m         \u001b[0mself\u001b[0m\u001b[0;34m.\u001b[0m\u001b[0m_open_handles\u001b[0m\u001b[0;34m(\u001b[0m\u001b[0msrc\u001b[0m\u001b[0;34m,\u001b[0m \u001b[0mkwds\u001b[0m\u001b[0;34m)\u001b[0m\u001b[0;34m\u001b[0m\u001b[0;34m\u001b[0m\u001b[0m\n\u001b[0m\u001b[1;32m     52\u001b[0m         \u001b[0;32massert\u001b[0m \u001b[0mself\u001b[0m\u001b[0;34m.\u001b[0m\u001b[0mhandles\u001b[0m \u001b[0;32mis\u001b[0m \u001b[0;32mnot\u001b[0m \u001b[0;32mNone\u001b[0m\u001b[0;34m\u001b[0m\u001b[0;34m\u001b[0m\u001b[0m\n\u001b[1;32m     53\u001b[0m \u001b[0;34m\u001b[0m\u001b[0m\n",
            "\u001b[0;32m/usr/local/lib/python3.7/dist-packages/pandas/io/parsers/base_parser.py\u001b[0m in \u001b[0;36m_open_handles\u001b[0;34m(self, src, kwds)\u001b[0m\n\u001b[1;32m    227\u001b[0m             \u001b[0mmemory_map\u001b[0m\u001b[0;34m=\u001b[0m\u001b[0mkwds\u001b[0m\u001b[0;34m.\u001b[0m\u001b[0mget\u001b[0m\u001b[0;34m(\u001b[0m\u001b[0;34m\"memory_map\"\u001b[0m\u001b[0;34m,\u001b[0m \u001b[0;32mFalse\u001b[0m\u001b[0;34m)\u001b[0m\u001b[0;34m,\u001b[0m\u001b[0;34m\u001b[0m\u001b[0;34m\u001b[0m\u001b[0m\n\u001b[1;32m    228\u001b[0m             \u001b[0mstorage_options\u001b[0m\u001b[0;34m=\u001b[0m\u001b[0mkwds\u001b[0m\u001b[0;34m.\u001b[0m\u001b[0mget\u001b[0m\u001b[0;34m(\u001b[0m\u001b[0;34m\"storage_options\"\u001b[0m\u001b[0;34m,\u001b[0m \u001b[0;32mNone\u001b[0m\u001b[0;34m)\u001b[0m\u001b[0;34m,\u001b[0m\u001b[0;34m\u001b[0m\u001b[0;34m\u001b[0m\u001b[0m\n\u001b[0;32m--> 229\u001b[0;31m             \u001b[0merrors\u001b[0m\u001b[0;34m=\u001b[0m\u001b[0mkwds\u001b[0m\u001b[0;34m.\u001b[0m\u001b[0mget\u001b[0m\u001b[0;34m(\u001b[0m\u001b[0;34m\"encoding_errors\"\u001b[0m\u001b[0;34m,\u001b[0m \u001b[0;34m\"strict\"\u001b[0m\u001b[0;34m)\u001b[0m\u001b[0;34m,\u001b[0m\u001b[0;34m\u001b[0m\u001b[0;34m\u001b[0m\u001b[0m\n\u001b[0m\u001b[1;32m    230\u001b[0m         )\n\u001b[1;32m    231\u001b[0m \u001b[0;34m\u001b[0m\u001b[0m\n",
            "\u001b[0;32m/usr/local/lib/python3.7/dist-packages/pandas/io/common.py\u001b[0m in \u001b[0;36mget_handle\u001b[0;34m(path_or_buf, mode, encoding, compression, memory_map, is_text, errors, storage_options)\u001b[0m\n\u001b[1;32m    705\u001b[0m                 \u001b[0mencoding\u001b[0m\u001b[0;34m=\u001b[0m\u001b[0mioargs\u001b[0m\u001b[0;34m.\u001b[0m\u001b[0mencoding\u001b[0m\u001b[0;34m,\u001b[0m\u001b[0;34m\u001b[0m\u001b[0;34m\u001b[0m\u001b[0m\n\u001b[1;32m    706\u001b[0m                 \u001b[0merrors\u001b[0m\u001b[0;34m=\u001b[0m\u001b[0merrors\u001b[0m\u001b[0;34m,\u001b[0m\u001b[0;34m\u001b[0m\u001b[0;34m\u001b[0m\u001b[0m\n\u001b[0;32m--> 707\u001b[0;31m                 \u001b[0mnewline\u001b[0m\u001b[0;34m=\u001b[0m\u001b[0;34m\"\"\u001b[0m\u001b[0;34m,\u001b[0m\u001b[0;34m\u001b[0m\u001b[0;34m\u001b[0m\u001b[0m\n\u001b[0m\u001b[1;32m    708\u001b[0m             )\n\u001b[1;32m    709\u001b[0m         \u001b[0;32melse\u001b[0m\u001b[0;34m:\u001b[0m\u001b[0;34m\u001b[0m\u001b[0;34m\u001b[0m\u001b[0m\n",
            "\u001b[0;31mFileNotFoundError\u001b[0m: [Errno 2] No such file or directory: '/content/MSF-Features.csv'"
          ]
        }
      ]
    },
    {
      "cell_type": "code",
      "source": [
        "#This is actually wrong way of filling null values\n",
        "df['Miscarriage History'].fillna(value=df['PCOS'], inplace=True)"
      ],
      "metadata": {
        "id": "_ebYrpUE306S"
      },
      "execution_count": null,
      "outputs": []
    },
    {
      "cell_type": "code",
      "source": [
        "'''\n",
        "from sklearn.utils import resample\n",
        "\n",
        "no = df[df.PCOS == 0]\n",
        "yes= df[df.PCOS == 1]\n",
        "\n",
        "yes_oversampled = resample(yes, replace=True, n_samples=len(no), random_state=12345)\n",
        "oversampled = pd.concat([no, yes_oversampled])\n",
        "#yes_opti_oversampled = resample(yes_opti, replace=True, n_samples=len(no), random_state=12345)\n",
        "#oversampled = pd.concat([oversampled, yes_oversampled])\n",
        "\n",
        "fig = plt.figure(figsize = (9,6))\n",
        "oversampled.PCOS.value_counts(normalize = True, ascending = False).plot(kind='bar', color= ['navy','orange','green'], alpha = 0.8, rot=0)\n",
        "plt.title('OVER SAMPLING')\n",
        "plt.show()'''"
      ],
      "metadata": {
        "colab": {
          "base_uri": "https://localhost:8080/",
          "height": 105
        },
        "id": "eHHbFrhXh3z9",
        "outputId": "f9a7503e-920b-4044-d38a-ee22a5677ba1"
      },
      "execution_count": null,
      "outputs": [
        {
          "output_type": "execute_result",
          "data": {
            "text/plain": [
              "\"\\nfrom sklearn.utils import resample\\n\\nno = df[df.PCOS == 0]\\nyes= df[df.PCOS == 1]\\n\\nyes_oversampled = resample(yes, replace=True, n_samples=len(no), random_state=12345)\\noversampled = pd.concat([no, yes_oversampled])\\n#yes_opti_oversampled = resample(yes_opti, replace=True, n_samples=len(no), random_state=12345)\\n#oversampled = pd.concat([oversampled, yes_oversampled])\\n\\nfig = plt.figure(figsize = (9,6))\\noversampled.PCOS.value_counts(normalize = True, ascending = False).plot(kind='bar', color= ['navy','orange','green'], alpha = 0.8, rot=0)\\nplt.title('OVER SAMPLING')\\nplt.show()\""
            ],
            "application/vnd.google.colaboratory.intrinsic+json": {
              "type": "string"
            }
          },
          "metadata": {},
          "execution_count": 62
        }
      ]
    },
    {
      "cell_type": "code",
      "source": [
        "oversampled.shape\n",
        "df=oversampled"
      ],
      "metadata": {
        "id": "rSL5wlwKbaKP"
      },
      "execution_count": null,
      "outputs": []
    },
    {
      "cell_type": "code",
      "source": [
        "m=df.corr()\n",
        "m"
      ],
      "metadata": {
        "colab": {
          "base_uri": "https://localhost:8080/",
          "height": 538
        },
        "id": "uVUZKeKh2C_a",
        "outputId": "ebc2022b-8e20-4ed4-bea9-f2e3644f8d7b"
      },
      "execution_count": null,
      "outputs": [
        {
          "output_type": "execute_result",
          "data": {
            "text/plain": [
              "                        Age_Of_Mother  weight_before_preg  wt_before_delivery  \\\n",
              "Age_Of_Mother                1.000000            0.553301            0.840797   \n",
              "weight_before_preg           0.553301            1.000000            0.994382   \n",
              "wt_before_delivery           0.840797            0.994382            1.000000   \n",
              "Height(cm)                   0.364224            0.701438            0.659203   \n",
              "BMI                          0.312337            0.541696            0.708602   \n",
              "Hemoglobin                   0.063337            0.052584            0.082962   \n",
              "Age_Father                   0.892503            0.522860            0.817728   \n",
              "Fertility_Treatment          0.311951            0.438817            0.479943   \n",
              "Miscarriage History          0.353881            0.565605            0.436330   \n",
              "Menstual_cycle_a             0.187085            0.171530            0.072582   \n",
              "Menstual_cycle_b             0.218873            0.218991            0.075661   \n",
              "Time_Taken_To_Concieve      -0.125756           -0.302245           -0.053885   \n",
              "PCOS                         0.410243            0.418992            0.519522   \n",
              "\n",
              "                        Height(cm)       BMI  Hemoglobin  Age_Father  \\\n",
              "Age_Of_Mother             0.364224  0.312337    0.063337    0.892503   \n",
              "weight_before_preg        0.701438  0.541696    0.052584    0.522860   \n",
              "wt_before_delivery        0.659203  0.708602    0.082962    0.817728   \n",
              "Height(cm)                1.000000 -0.209240    0.099879    0.320289   \n",
              "BMI                      -0.209240  1.000000   -0.051055    0.325610   \n",
              "Hemoglobin                0.099879 -0.051055    1.000000    0.076055   \n",
              "Age_Father                0.320289  0.325610    0.076055    1.000000   \n",
              "Fertility_Treatment       0.287621  0.241967   -0.046259    0.287390   \n",
              "Miscarriage History       0.569227  0.095601    0.120098    0.345756   \n",
              "Menstual_cycle_a          0.130984  0.064286    0.025040    0.179344   \n",
              "Menstual_cycle_b          0.166745  0.088334    0.025521    0.211737   \n",
              "Time_Taken_To_Concieve   -0.345246 -0.022135   -0.030881   -0.101531   \n",
              "PCOS                      0.293385  0.229775    0.014927    0.393508   \n",
              "\n",
              "                        Fertility_Treatment  Miscarriage History  \\\n",
              "Age_Of_Mother                      0.311951             0.353881   \n",
              "weight_before_preg                 0.438817             0.565605   \n",
              "wt_before_delivery                 0.479943             0.436330   \n",
              "Height(cm)                         0.287621             0.569227   \n",
              "BMI                                0.241967             0.095601   \n",
              "Hemoglobin                        -0.046259             0.120098   \n",
              "Age_Father                         0.287390             0.345756   \n",
              "Fertility_Treatment                1.000000             0.287377   \n",
              "Miscarriage History                0.287377             1.000000   \n",
              "Menstual_cycle_a                   0.292145             0.150769   \n",
              "Menstual_cycle_b                   0.281264             0.184219   \n",
              "Time_Taken_To_Concieve            -0.199490            -0.304171   \n",
              "PCOS                               0.379094             0.573191   \n",
              "\n",
              "                        Menstual_cycle_a  Menstual_cycle_b  \\\n",
              "Age_Of_Mother                   0.187085          0.218873   \n",
              "weight_before_preg              0.171530          0.218991   \n",
              "wt_before_delivery              0.072582          0.075661   \n",
              "Height(cm)                      0.130984          0.166745   \n",
              "BMI                             0.064286          0.088334   \n",
              "Hemoglobin                      0.025040          0.025521   \n",
              "Age_Father                      0.179344          0.211737   \n",
              "Fertility_Treatment             0.292145          0.281264   \n",
              "Miscarriage History             0.150769          0.184219   \n",
              "Menstual_cycle_a                1.000000          0.934586   \n",
              "Menstual_cycle_b                0.934586          1.000000   \n",
              "Time_Taken_To_Concieve         -0.417366         -0.406285   \n",
              "PCOS                            0.287988          0.315144   \n",
              "\n",
              "                        Time_Taken_To_Concieve      PCOS  \n",
              "Age_Of_Mother                        -0.125756  0.410243  \n",
              "weight_before_preg                   -0.302245  0.418992  \n",
              "wt_before_delivery                   -0.053885  0.519522  \n",
              "Height(cm)                           -0.345246  0.293385  \n",
              "BMI                                  -0.022135  0.229775  \n",
              "Hemoglobin                           -0.030881  0.014927  \n",
              "Age_Father                           -0.101531  0.393508  \n",
              "Fertility_Treatment                  -0.199490  0.379094  \n",
              "Miscarriage History                  -0.304171  0.573191  \n",
              "Menstual_cycle_a                     -0.417366  0.287988  \n",
              "Menstual_cycle_b                     -0.406285  0.315144  \n",
              "Time_Taken_To_Concieve                1.000000 -0.370184  \n",
              "PCOS                                 -0.370184  1.000000  "
            ],
            "text/html": [
              "\n",
              "  <div id=\"df-4af494f3-ce2f-4bb7-894e-7cf72635fe76\">\n",
              "    <div class=\"colab-df-container\">\n",
              "      <div>\n",
              "<style scoped>\n",
              "    .dataframe tbody tr th:only-of-type {\n",
              "        vertical-align: middle;\n",
              "    }\n",
              "\n",
              "    .dataframe tbody tr th {\n",
              "        vertical-align: top;\n",
              "    }\n",
              "\n",
              "    .dataframe thead th {\n",
              "        text-align: right;\n",
              "    }\n",
              "</style>\n",
              "<table border=\"1\" class=\"dataframe\">\n",
              "  <thead>\n",
              "    <tr style=\"text-align: right;\">\n",
              "      <th></th>\n",
              "      <th>Age_Of_Mother</th>\n",
              "      <th>weight_before_preg</th>\n",
              "      <th>wt_before_delivery</th>\n",
              "      <th>Height(cm)</th>\n",
              "      <th>BMI</th>\n",
              "      <th>Hemoglobin</th>\n",
              "      <th>Age_Father</th>\n",
              "      <th>Fertility_Treatment</th>\n",
              "      <th>Miscarriage History</th>\n",
              "      <th>Menstual_cycle_a</th>\n",
              "      <th>Menstual_cycle_b</th>\n",
              "      <th>Time_Taken_To_Concieve</th>\n",
              "      <th>PCOS</th>\n",
              "    </tr>\n",
              "  </thead>\n",
              "  <tbody>\n",
              "    <tr>\n",
              "      <th>Age_Of_Mother</th>\n",
              "      <td>1.000000</td>\n",
              "      <td>0.553301</td>\n",
              "      <td>0.840797</td>\n",
              "      <td>0.364224</td>\n",
              "      <td>0.312337</td>\n",
              "      <td>0.063337</td>\n",
              "      <td>0.892503</td>\n",
              "      <td>0.311951</td>\n",
              "      <td>0.353881</td>\n",
              "      <td>0.187085</td>\n",
              "      <td>0.218873</td>\n",
              "      <td>-0.125756</td>\n",
              "      <td>0.410243</td>\n",
              "    </tr>\n",
              "    <tr>\n",
              "      <th>weight_before_preg</th>\n",
              "      <td>0.553301</td>\n",
              "      <td>1.000000</td>\n",
              "      <td>0.994382</td>\n",
              "      <td>0.701438</td>\n",
              "      <td>0.541696</td>\n",
              "      <td>0.052584</td>\n",
              "      <td>0.522860</td>\n",
              "      <td>0.438817</td>\n",
              "      <td>0.565605</td>\n",
              "      <td>0.171530</td>\n",
              "      <td>0.218991</td>\n",
              "      <td>-0.302245</td>\n",
              "      <td>0.418992</td>\n",
              "    </tr>\n",
              "    <tr>\n",
              "      <th>wt_before_delivery</th>\n",
              "      <td>0.840797</td>\n",
              "      <td>0.994382</td>\n",
              "      <td>1.000000</td>\n",
              "      <td>0.659203</td>\n",
              "      <td>0.708602</td>\n",
              "      <td>0.082962</td>\n",
              "      <td>0.817728</td>\n",
              "      <td>0.479943</td>\n",
              "      <td>0.436330</td>\n",
              "      <td>0.072582</td>\n",
              "      <td>0.075661</td>\n",
              "      <td>-0.053885</td>\n",
              "      <td>0.519522</td>\n",
              "    </tr>\n",
              "    <tr>\n",
              "      <th>Height(cm)</th>\n",
              "      <td>0.364224</td>\n",
              "      <td>0.701438</td>\n",
              "      <td>0.659203</td>\n",
              "      <td>1.000000</td>\n",
              "      <td>-0.209240</td>\n",
              "      <td>0.099879</td>\n",
              "      <td>0.320289</td>\n",
              "      <td>0.287621</td>\n",
              "      <td>0.569227</td>\n",
              "      <td>0.130984</td>\n",
              "      <td>0.166745</td>\n",
              "      <td>-0.345246</td>\n",
              "      <td>0.293385</td>\n",
              "    </tr>\n",
              "    <tr>\n",
              "      <th>BMI</th>\n",
              "      <td>0.312337</td>\n",
              "      <td>0.541696</td>\n",
              "      <td>0.708602</td>\n",
              "      <td>-0.209240</td>\n",
              "      <td>1.000000</td>\n",
              "      <td>-0.051055</td>\n",
              "      <td>0.325610</td>\n",
              "      <td>0.241967</td>\n",
              "      <td>0.095601</td>\n",
              "      <td>0.064286</td>\n",
              "      <td>0.088334</td>\n",
              "      <td>-0.022135</td>\n",
              "      <td>0.229775</td>\n",
              "    </tr>\n",
              "    <tr>\n",
              "      <th>Hemoglobin</th>\n",
              "      <td>0.063337</td>\n",
              "      <td>0.052584</td>\n",
              "      <td>0.082962</td>\n",
              "      <td>0.099879</td>\n",
              "      <td>-0.051055</td>\n",
              "      <td>1.000000</td>\n",
              "      <td>0.076055</td>\n",
              "      <td>-0.046259</td>\n",
              "      <td>0.120098</td>\n",
              "      <td>0.025040</td>\n",
              "      <td>0.025521</td>\n",
              "      <td>-0.030881</td>\n",
              "      <td>0.014927</td>\n",
              "    </tr>\n",
              "    <tr>\n",
              "      <th>Age_Father</th>\n",
              "      <td>0.892503</td>\n",
              "      <td>0.522860</td>\n",
              "      <td>0.817728</td>\n",
              "      <td>0.320289</td>\n",
              "      <td>0.325610</td>\n",
              "      <td>0.076055</td>\n",
              "      <td>1.000000</td>\n",
              "      <td>0.287390</td>\n",
              "      <td>0.345756</td>\n",
              "      <td>0.179344</td>\n",
              "      <td>0.211737</td>\n",
              "      <td>-0.101531</td>\n",
              "      <td>0.393508</td>\n",
              "    </tr>\n",
              "    <tr>\n",
              "      <th>Fertility_Treatment</th>\n",
              "      <td>0.311951</td>\n",
              "      <td>0.438817</td>\n",
              "      <td>0.479943</td>\n",
              "      <td>0.287621</td>\n",
              "      <td>0.241967</td>\n",
              "      <td>-0.046259</td>\n",
              "      <td>0.287390</td>\n",
              "      <td>1.000000</td>\n",
              "      <td>0.287377</td>\n",
              "      <td>0.292145</td>\n",
              "      <td>0.281264</td>\n",
              "      <td>-0.199490</td>\n",
              "      <td>0.379094</td>\n",
              "    </tr>\n",
              "    <tr>\n",
              "      <th>Miscarriage History</th>\n",
              "      <td>0.353881</td>\n",
              "      <td>0.565605</td>\n",
              "      <td>0.436330</td>\n",
              "      <td>0.569227</td>\n",
              "      <td>0.095601</td>\n",
              "      <td>0.120098</td>\n",
              "      <td>0.345756</td>\n",
              "      <td>0.287377</td>\n",
              "      <td>1.000000</td>\n",
              "      <td>0.150769</td>\n",
              "      <td>0.184219</td>\n",
              "      <td>-0.304171</td>\n",
              "      <td>0.573191</td>\n",
              "    </tr>\n",
              "    <tr>\n",
              "      <th>Menstual_cycle_a</th>\n",
              "      <td>0.187085</td>\n",
              "      <td>0.171530</td>\n",
              "      <td>0.072582</td>\n",
              "      <td>0.130984</td>\n",
              "      <td>0.064286</td>\n",
              "      <td>0.025040</td>\n",
              "      <td>0.179344</td>\n",
              "      <td>0.292145</td>\n",
              "      <td>0.150769</td>\n",
              "      <td>1.000000</td>\n",
              "      <td>0.934586</td>\n",
              "      <td>-0.417366</td>\n",
              "      <td>0.287988</td>\n",
              "    </tr>\n",
              "    <tr>\n",
              "      <th>Menstual_cycle_b</th>\n",
              "      <td>0.218873</td>\n",
              "      <td>0.218991</td>\n",
              "      <td>0.075661</td>\n",
              "      <td>0.166745</td>\n",
              "      <td>0.088334</td>\n",
              "      <td>0.025521</td>\n",
              "      <td>0.211737</td>\n",
              "      <td>0.281264</td>\n",
              "      <td>0.184219</td>\n",
              "      <td>0.934586</td>\n",
              "      <td>1.000000</td>\n",
              "      <td>-0.406285</td>\n",
              "      <td>0.315144</td>\n",
              "    </tr>\n",
              "    <tr>\n",
              "      <th>Time_Taken_To_Concieve</th>\n",
              "      <td>-0.125756</td>\n",
              "      <td>-0.302245</td>\n",
              "      <td>-0.053885</td>\n",
              "      <td>-0.345246</td>\n",
              "      <td>-0.022135</td>\n",
              "      <td>-0.030881</td>\n",
              "      <td>-0.101531</td>\n",
              "      <td>-0.199490</td>\n",
              "      <td>-0.304171</td>\n",
              "      <td>-0.417366</td>\n",
              "      <td>-0.406285</td>\n",
              "      <td>1.000000</td>\n",
              "      <td>-0.370184</td>\n",
              "    </tr>\n",
              "    <tr>\n",
              "      <th>PCOS</th>\n",
              "      <td>0.410243</td>\n",
              "      <td>0.418992</td>\n",
              "      <td>0.519522</td>\n",
              "      <td>0.293385</td>\n",
              "      <td>0.229775</td>\n",
              "      <td>0.014927</td>\n",
              "      <td>0.393508</td>\n",
              "      <td>0.379094</td>\n",
              "      <td>0.573191</td>\n",
              "      <td>0.287988</td>\n",
              "      <td>0.315144</td>\n",
              "      <td>-0.370184</td>\n",
              "      <td>1.000000</td>\n",
              "    </tr>\n",
              "  </tbody>\n",
              "</table>\n",
              "</div>\n",
              "      <button class=\"colab-df-convert\" onclick=\"convertToInteractive('df-4af494f3-ce2f-4bb7-894e-7cf72635fe76')\"\n",
              "              title=\"Convert this dataframe to an interactive table.\"\n",
              "              style=\"display:none;\">\n",
              "        \n",
              "  <svg xmlns=\"http://www.w3.org/2000/svg\" height=\"24px\"viewBox=\"0 0 24 24\"\n",
              "       width=\"24px\">\n",
              "    <path d=\"M0 0h24v24H0V0z\" fill=\"none\"/>\n",
              "    <path d=\"M18.56 5.44l.94 2.06.94-2.06 2.06-.94-2.06-.94-.94-2.06-.94 2.06-2.06.94zm-11 1L8.5 8.5l.94-2.06 2.06-.94-2.06-.94L8.5 2.5l-.94 2.06-2.06.94zm10 10l.94 2.06.94-2.06 2.06-.94-2.06-.94-.94-2.06-.94 2.06-2.06.94z\"/><path d=\"M17.41 7.96l-1.37-1.37c-.4-.4-.92-.59-1.43-.59-.52 0-1.04.2-1.43.59L10.3 9.45l-7.72 7.72c-.78.78-.78 2.05 0 2.83L4 21.41c.39.39.9.59 1.41.59.51 0 1.02-.2 1.41-.59l7.78-7.78 2.81-2.81c.8-.78.8-2.07 0-2.86zM5.41 20L4 18.59l7.72-7.72 1.47 1.35L5.41 20z\"/>\n",
              "  </svg>\n",
              "      </button>\n",
              "      \n",
              "  <style>\n",
              "    .colab-df-container {\n",
              "      display:flex;\n",
              "      flex-wrap:wrap;\n",
              "      gap: 12px;\n",
              "    }\n",
              "\n",
              "    .colab-df-convert {\n",
              "      background-color: #E8F0FE;\n",
              "      border: none;\n",
              "      border-radius: 50%;\n",
              "      cursor: pointer;\n",
              "      display: none;\n",
              "      fill: #1967D2;\n",
              "      height: 32px;\n",
              "      padding: 0 0 0 0;\n",
              "      width: 32px;\n",
              "    }\n",
              "\n",
              "    .colab-df-convert:hover {\n",
              "      background-color: #E2EBFA;\n",
              "      box-shadow: 0px 1px 2px rgba(60, 64, 67, 0.3), 0px 1px 3px 1px rgba(60, 64, 67, 0.15);\n",
              "      fill: #174EA6;\n",
              "    }\n",
              "\n",
              "    [theme=dark] .colab-df-convert {\n",
              "      background-color: #3B4455;\n",
              "      fill: #D2E3FC;\n",
              "    }\n",
              "\n",
              "    [theme=dark] .colab-df-convert:hover {\n",
              "      background-color: #434B5C;\n",
              "      box-shadow: 0px 1px 3px 1px rgba(0, 0, 0, 0.15);\n",
              "      filter: drop-shadow(0px 1px 2px rgba(0, 0, 0, 0.3));\n",
              "      fill: #FFFFFF;\n",
              "    }\n",
              "  </style>\n",
              "\n",
              "      <script>\n",
              "        const buttonEl =\n",
              "          document.querySelector('#df-4af494f3-ce2f-4bb7-894e-7cf72635fe76 button.colab-df-convert');\n",
              "        buttonEl.style.display =\n",
              "          google.colab.kernel.accessAllowed ? 'block' : 'none';\n",
              "\n",
              "        async function convertToInteractive(key) {\n",
              "          const element = document.querySelector('#df-4af494f3-ce2f-4bb7-894e-7cf72635fe76');\n",
              "          const dataTable =\n",
              "            await google.colab.kernel.invokeFunction('convertToInteractive',\n",
              "                                                     [key], {});\n",
              "          if (!dataTable) return;\n",
              "\n",
              "          const docLinkHtml = 'Like what you see? Visit the ' +\n",
              "            '<a target=\"_blank\" href=https://colab.research.google.com/notebooks/data_table.ipynb>data table notebook</a>'\n",
              "            + ' to learn more about interactive tables.';\n",
              "          element.innerHTML = '';\n",
              "          dataTable['output_type'] = 'display_data';\n",
              "          await google.colab.output.renderOutput(dataTable, element);\n",
              "          const docLink = document.createElement('div');\n",
              "          docLink.innerHTML = docLinkHtml;\n",
              "          element.appendChild(docLink);\n",
              "        }\n",
              "      </script>\n",
              "    </div>\n",
              "  </div>\n",
              "  "
            ]
          },
          "metadata": {},
          "execution_count": 64
        }
      ]
    },
    {
      "cell_type": "code",
      "source": [
        "df1=df.iloc[:,:12]\n",
        "df2=df.iloc[:,12]\n",
        "df1"
      ],
      "metadata": {
        "colab": {
          "base_uri": "https://localhost:8080/",
          "height": 505
        },
        "id": "N0R1yf9ibdeX",
        "outputId": "7cded1f6-600e-45af-8c9b-85e27f2c93da"
      },
      "execution_count": null,
      "outputs": [
        {
          "output_type": "execute_result",
          "data": {
            "text/plain": [
              "     Age_Of_Mother  weight_before_preg  wt_before_delivery  Height(cm)  BMI  \\\n",
              "0               29                  59                60.0         156   25   \n",
              "1               24                  54                56.0         145   26   \n",
              "2               28                  62                65.0         151   28   \n",
              "3               25                  49                52.0         151   22   \n",
              "4               21                  39                42.0         151   18   \n",
              "..             ...                 ...                 ...         ...  ...   \n",
              "75              34                  78                80.0         179   25   \n",
              "146             29                  74                76.0         182   23   \n",
              "59              37                  83                86.0         175   28   \n",
              "423             26                  55                 NaN         145   27   \n",
              "11              30                  75                78.0         156   31   \n",
              "\n",
              "     Hemoglobin  Age_Father  Fertility_Treatment  Miscarriage History  \\\n",
              "0          12.5          31                    0                  0.0   \n",
              "1          12.5          28                    0                  0.0   \n",
              "2          11.5          31                    0                  0.0   \n",
              "3          11.5          30                    0                  0.0   \n",
              "4          10.1          25                    0                  0.0   \n",
              "..          ...         ...                  ...                  ...   \n",
              "75         13.5          38                    0                  2.0   \n",
              "146        14.8          33                    0                  2.0   \n",
              "59         13.9          43                    0                  2.0   \n",
              "423        10.5          30                    0                  0.0   \n",
              "11         12.5          35                    1                  2.0   \n",
              "\n",
              "     Menstual_cycle_a  Menstual_cycle_b  Time_Taken_To_Concieve  \n",
              "0                   3                 3                       1  \n",
              "1                   1                 1                       1  \n",
              "2                   3                 3                       1  \n",
              "3                   2                 2                       1  \n",
              "4                   2                 2                       1  \n",
              "..                ...               ...                     ...  \n",
              "75                  1                 1                       1  \n",
              "146                 2                 2                       1  \n",
              "59                  3                 3                       1  \n",
              "423                 1                 1                       1  \n",
              "11                  3                 3                       1  \n",
              "\n",
              "[818 rows x 12 columns]"
            ],
            "text/html": [
              "\n",
              "  <div id=\"df-23734ad7-bd19-40cf-81a7-3ef968d5522c\">\n",
              "    <div class=\"colab-df-container\">\n",
              "      <div>\n",
              "<style scoped>\n",
              "    .dataframe tbody tr th:only-of-type {\n",
              "        vertical-align: middle;\n",
              "    }\n",
              "\n",
              "    .dataframe tbody tr th {\n",
              "        vertical-align: top;\n",
              "    }\n",
              "\n",
              "    .dataframe thead th {\n",
              "        text-align: right;\n",
              "    }\n",
              "</style>\n",
              "<table border=\"1\" class=\"dataframe\">\n",
              "  <thead>\n",
              "    <tr style=\"text-align: right;\">\n",
              "      <th></th>\n",
              "      <th>Age_Of_Mother</th>\n",
              "      <th>weight_before_preg</th>\n",
              "      <th>wt_before_delivery</th>\n",
              "      <th>Height(cm)</th>\n",
              "      <th>BMI</th>\n",
              "      <th>Hemoglobin</th>\n",
              "      <th>Age_Father</th>\n",
              "      <th>Fertility_Treatment</th>\n",
              "      <th>Miscarriage History</th>\n",
              "      <th>Menstual_cycle_a</th>\n",
              "      <th>Menstual_cycle_b</th>\n",
              "      <th>Time_Taken_To_Concieve</th>\n",
              "    </tr>\n",
              "  </thead>\n",
              "  <tbody>\n",
              "    <tr>\n",
              "      <th>0</th>\n",
              "      <td>29</td>\n",
              "      <td>59</td>\n",
              "      <td>60.0</td>\n",
              "      <td>156</td>\n",
              "      <td>25</td>\n",
              "      <td>12.5</td>\n",
              "      <td>31</td>\n",
              "      <td>0</td>\n",
              "      <td>0.0</td>\n",
              "      <td>3</td>\n",
              "      <td>3</td>\n",
              "      <td>1</td>\n",
              "    </tr>\n",
              "    <tr>\n",
              "      <th>1</th>\n",
              "      <td>24</td>\n",
              "      <td>54</td>\n",
              "      <td>56.0</td>\n",
              "      <td>145</td>\n",
              "      <td>26</td>\n",
              "      <td>12.5</td>\n",
              "      <td>28</td>\n",
              "      <td>0</td>\n",
              "      <td>0.0</td>\n",
              "      <td>1</td>\n",
              "      <td>1</td>\n",
              "      <td>1</td>\n",
              "    </tr>\n",
              "    <tr>\n",
              "      <th>2</th>\n",
              "      <td>28</td>\n",
              "      <td>62</td>\n",
              "      <td>65.0</td>\n",
              "      <td>151</td>\n",
              "      <td>28</td>\n",
              "      <td>11.5</td>\n",
              "      <td>31</td>\n",
              "      <td>0</td>\n",
              "      <td>0.0</td>\n",
              "      <td>3</td>\n",
              "      <td>3</td>\n",
              "      <td>1</td>\n",
              "    </tr>\n",
              "    <tr>\n",
              "      <th>3</th>\n",
              "      <td>25</td>\n",
              "      <td>49</td>\n",
              "      <td>52.0</td>\n",
              "      <td>151</td>\n",
              "      <td>22</td>\n",
              "      <td>11.5</td>\n",
              "      <td>30</td>\n",
              "      <td>0</td>\n",
              "      <td>0.0</td>\n",
              "      <td>2</td>\n",
              "      <td>2</td>\n",
              "      <td>1</td>\n",
              "    </tr>\n",
              "    <tr>\n",
              "      <th>4</th>\n",
              "      <td>21</td>\n",
              "      <td>39</td>\n",
              "      <td>42.0</td>\n",
              "      <td>151</td>\n",
              "      <td>18</td>\n",
              "      <td>10.1</td>\n",
              "      <td>25</td>\n",
              "      <td>0</td>\n",
              "      <td>0.0</td>\n",
              "      <td>2</td>\n",
              "      <td>2</td>\n",
              "      <td>1</td>\n",
              "    </tr>\n",
              "    <tr>\n",
              "      <th>...</th>\n",
              "      <td>...</td>\n",
              "      <td>...</td>\n",
              "      <td>...</td>\n",
              "      <td>...</td>\n",
              "      <td>...</td>\n",
              "      <td>...</td>\n",
              "      <td>...</td>\n",
              "      <td>...</td>\n",
              "      <td>...</td>\n",
              "      <td>...</td>\n",
              "      <td>...</td>\n",
              "      <td>...</td>\n",
              "    </tr>\n",
              "    <tr>\n",
              "      <th>75</th>\n",
              "      <td>34</td>\n",
              "      <td>78</td>\n",
              "      <td>80.0</td>\n",
              "      <td>179</td>\n",
              "      <td>25</td>\n",
              "      <td>13.5</td>\n",
              "      <td>38</td>\n",
              "      <td>0</td>\n",
              "      <td>2.0</td>\n",
              "      <td>1</td>\n",
              "      <td>1</td>\n",
              "      <td>1</td>\n",
              "    </tr>\n",
              "    <tr>\n",
              "      <th>146</th>\n",
              "      <td>29</td>\n",
              "      <td>74</td>\n",
              "      <td>76.0</td>\n",
              "      <td>182</td>\n",
              "      <td>23</td>\n",
              "      <td>14.8</td>\n",
              "      <td>33</td>\n",
              "      <td>0</td>\n",
              "      <td>2.0</td>\n",
              "      <td>2</td>\n",
              "      <td>2</td>\n",
              "      <td>1</td>\n",
              "    </tr>\n",
              "    <tr>\n",
              "      <th>59</th>\n",
              "      <td>37</td>\n",
              "      <td>83</td>\n",
              "      <td>86.0</td>\n",
              "      <td>175</td>\n",
              "      <td>28</td>\n",
              "      <td>13.9</td>\n",
              "      <td>43</td>\n",
              "      <td>0</td>\n",
              "      <td>2.0</td>\n",
              "      <td>3</td>\n",
              "      <td>3</td>\n",
              "      <td>1</td>\n",
              "    </tr>\n",
              "    <tr>\n",
              "      <th>423</th>\n",
              "      <td>26</td>\n",
              "      <td>55</td>\n",
              "      <td>NaN</td>\n",
              "      <td>145</td>\n",
              "      <td>27</td>\n",
              "      <td>10.5</td>\n",
              "      <td>30</td>\n",
              "      <td>0</td>\n",
              "      <td>0.0</td>\n",
              "      <td>1</td>\n",
              "      <td>1</td>\n",
              "      <td>1</td>\n",
              "    </tr>\n",
              "    <tr>\n",
              "      <th>11</th>\n",
              "      <td>30</td>\n",
              "      <td>75</td>\n",
              "      <td>78.0</td>\n",
              "      <td>156</td>\n",
              "      <td>31</td>\n",
              "      <td>12.5</td>\n",
              "      <td>35</td>\n",
              "      <td>1</td>\n",
              "      <td>2.0</td>\n",
              "      <td>3</td>\n",
              "      <td>3</td>\n",
              "      <td>1</td>\n",
              "    </tr>\n",
              "  </tbody>\n",
              "</table>\n",
              "<p>818 rows × 12 columns</p>\n",
              "</div>\n",
              "      <button class=\"colab-df-convert\" onclick=\"convertToInteractive('df-23734ad7-bd19-40cf-81a7-3ef968d5522c')\"\n",
              "              title=\"Convert this dataframe to an interactive table.\"\n",
              "              style=\"display:none;\">\n",
              "        \n",
              "  <svg xmlns=\"http://www.w3.org/2000/svg\" height=\"24px\"viewBox=\"0 0 24 24\"\n",
              "       width=\"24px\">\n",
              "    <path d=\"M0 0h24v24H0V0z\" fill=\"none\"/>\n",
              "    <path d=\"M18.56 5.44l.94 2.06.94-2.06 2.06-.94-2.06-.94-.94-2.06-.94 2.06-2.06.94zm-11 1L8.5 8.5l.94-2.06 2.06-.94-2.06-.94L8.5 2.5l-.94 2.06-2.06.94zm10 10l.94 2.06.94-2.06 2.06-.94-2.06-.94-.94-2.06-.94 2.06-2.06.94z\"/><path d=\"M17.41 7.96l-1.37-1.37c-.4-.4-.92-.59-1.43-.59-.52 0-1.04.2-1.43.59L10.3 9.45l-7.72 7.72c-.78.78-.78 2.05 0 2.83L4 21.41c.39.39.9.59 1.41.59.51 0 1.02-.2 1.41-.59l7.78-7.78 2.81-2.81c.8-.78.8-2.07 0-2.86zM5.41 20L4 18.59l7.72-7.72 1.47 1.35L5.41 20z\"/>\n",
              "  </svg>\n",
              "      </button>\n",
              "      \n",
              "  <style>\n",
              "    .colab-df-container {\n",
              "      display:flex;\n",
              "      flex-wrap:wrap;\n",
              "      gap: 12px;\n",
              "    }\n",
              "\n",
              "    .colab-df-convert {\n",
              "      background-color: #E8F0FE;\n",
              "      border: none;\n",
              "      border-radius: 50%;\n",
              "      cursor: pointer;\n",
              "      display: none;\n",
              "      fill: #1967D2;\n",
              "      height: 32px;\n",
              "      padding: 0 0 0 0;\n",
              "      width: 32px;\n",
              "    }\n",
              "\n",
              "    .colab-df-convert:hover {\n",
              "      background-color: #E2EBFA;\n",
              "      box-shadow: 0px 1px 2px rgba(60, 64, 67, 0.3), 0px 1px 3px 1px rgba(60, 64, 67, 0.15);\n",
              "      fill: #174EA6;\n",
              "    }\n",
              "\n",
              "    [theme=dark] .colab-df-convert {\n",
              "      background-color: #3B4455;\n",
              "      fill: #D2E3FC;\n",
              "    }\n",
              "\n",
              "    [theme=dark] .colab-df-convert:hover {\n",
              "      background-color: #434B5C;\n",
              "      box-shadow: 0px 1px 3px 1px rgba(0, 0, 0, 0.15);\n",
              "      filter: drop-shadow(0px 1px 2px rgba(0, 0, 0, 0.3));\n",
              "      fill: #FFFFFF;\n",
              "    }\n",
              "  </style>\n",
              "\n",
              "      <script>\n",
              "        const buttonEl =\n",
              "          document.querySelector('#df-23734ad7-bd19-40cf-81a7-3ef968d5522c button.colab-df-convert');\n",
              "        buttonEl.style.display =\n",
              "          google.colab.kernel.accessAllowed ? 'block' : 'none';\n",
              "\n",
              "        async function convertToInteractive(key) {\n",
              "          const element = document.querySelector('#df-23734ad7-bd19-40cf-81a7-3ef968d5522c');\n",
              "          const dataTable =\n",
              "            await google.colab.kernel.invokeFunction('convertToInteractive',\n",
              "                                                     [key], {});\n",
              "          if (!dataTable) return;\n",
              "\n",
              "          const docLinkHtml = 'Like what you see? Visit the ' +\n",
              "            '<a target=\"_blank\" href=https://colab.research.google.com/notebooks/data_table.ipynb>data table notebook</a>'\n",
              "            + ' to learn more about interactive tables.';\n",
              "          element.innerHTML = '';\n",
              "          dataTable['output_type'] = 'display_data';\n",
              "          await google.colab.output.renderOutput(dataTable, element);\n",
              "          const docLink = document.createElement('div');\n",
              "          docLink.innerHTML = docLinkHtml;\n",
              "          element.appendChild(docLink);\n",
              "        }\n",
              "      </script>\n",
              "    </div>\n",
              "  </div>\n",
              "  "
            ]
          },
          "metadata": {},
          "execution_count": 65
        }
      ]
    },
    {
      "cell_type": "code",
      "source": [
        "#df1['wt_before_delivery'].fillna(value=df1['wt_before_delivery'].mean(), inplace = True)\n"
      ],
      "metadata": {
        "id": "35B5pwTPch18"
      },
      "execution_count": null,
      "outputs": []
    },
    {
      "cell_type": "code",
      "source": [
        "df1.isnull().sum()"
      ],
      "metadata": {
        "colab": {
          "base_uri": "https://localhost:8080/"
        },
        "id": "Epi5qyhTMFq2",
        "outputId": "4df64e07-57b0-45f9-92d7-873cdb1eb2fd"
      },
      "execution_count": null,
      "outputs": [
        {
          "output_type": "execute_result",
          "data": {
            "text/plain": [
              "Age_Of_Mother               0\n",
              "weight_before_preg          0\n",
              "wt_before_delivery        370\n",
              "Height(cm)                  0\n",
              "BMI                         0\n",
              "Hemoglobin                  0\n",
              "Age_Father                  0\n",
              "Fertility_Treatment         0\n",
              "Miscarriage History         0\n",
              "Menstual_cycle_a            0\n",
              "Menstual_cycle_b            0\n",
              "Time_Taken_To_Concieve      0\n",
              "dtype: int64"
            ]
          },
          "metadata": {},
          "execution_count": 67
        }
      ]
    },
    {
      "cell_type": "code",
      "source": [
        "#df1=df1.drop(['Miscarriage History'], axis=1)\n",
        "df1=df1.drop(['Time_Taken_To_Concieve'], axis=1)\n",
        "df1=df1.drop(['wt_before_delivery'], axis=1)\n",
        "df1=df1.drop(['Hemoglobin'], axis=1)\n",
        "df1=df1.drop(['Height(cm)'], axis=1)\n",
        "df1=df1.drop(['BMI'], axis=1)\n",
        "\n",
        "df1.isnull().sum()"
      ],
      "metadata": {
        "colab": {
          "base_uri": "https://localhost:8080/"
        },
        "id": "gVTUhykFJdyZ",
        "outputId": "df662c0e-3665-4468-cd3b-770b39e27576"
      },
      "execution_count": null,
      "outputs": [
        {
          "output_type": "execute_result",
          "data": {
            "text/plain": [
              "Age_Of_Mother          0\n",
              "weight_before_preg     0\n",
              "Age_Father             0\n",
              "Fertility_Treatment    0\n",
              "Miscarriage History    0\n",
              "Menstual_cycle_a       0\n",
              "Menstual_cycle_b       0\n",
              "dtype: int64"
            ]
          },
          "metadata": {},
          "execution_count": 68
        }
      ]
    },
    {
      "cell_type": "markdown",
      "source": [
        "#Naive Bayes"
      ],
      "metadata": {
        "id": "E1Sg36MxNYlf"
      }
    },
    {
      "cell_type": "code",
      "source": [
        "\n",
        "X = df1\n",
        "y = df2\n",
        "\n",
        "# splitting X and y into training and testing sets\n",
        "from sklearn.model_selection import train_test_split\n",
        "X_train, X_test, y_train, y_test = train_test_split(X, y, test_size=0.4, random_state=1)\n",
        "\n",
        "\n",
        "# training the model on training set\n",
        "from sklearn.naive_bayes import GaussianNB\n",
        "gnb = GaussianNB()\n",
        "gnb.fit(X_train, y_train)\n",
        "\n",
        "\n",
        "# making predictions on the testing set\n",
        "y_pred = gnb.predict(X_test)\n",
        "\n",
        "# comparing actual response values (y_test) with predicted response values (y_pred)\n",
        "from sklearn import metrics\n",
        "print(\"Gaussian Naive Bayes model accuracy(in %):\", metrics.accuracy_score(y_test, y_pred)*100)\n"
      ],
      "metadata": {
        "colab": {
          "base_uri": "https://localhost:8080/"
        },
        "id": "ZQOuTPyELyvP",
        "outputId": "6cef6018-2a56-4c88-cfac-be7a8415f383"
      },
      "execution_count": null,
      "outputs": [
        {
          "output_type": "stream",
          "name": "stdout",
          "text": [
            "Gaussian Naive Bayes model accuracy(in %): 81.40243902439023\n"
          ]
        }
      ]
    },
    {
      "cell_type": "markdown",
      "source": [
        "#Stratified Kfold"
      ],
      "metadata": {
        "id": "t3tbkDlaNQKq"
      }
    },
    {
      "cell_type": "code",
      "source": [
        "'''\n",
        "# This code may not be run on GFG IDE\n",
        "# as required packages are not found.\n",
        "\t\n",
        "# STRATIFIES K-FOLD CROSS VALIDATION { 10-fold }\n",
        "\n",
        "# Import Required Modules.\n",
        "from statistics import mean, stdev\n",
        "from sklearn import preprocessing\n",
        "from sklearn.model_selection import StratifiedKFold\n",
        "from sklearn import linear_model\n",
        "\n",
        "\n",
        "\n",
        "# Input_x_Features.\n",
        "x = df1\t\t\t\t\t\t\n",
        "\n",
        "# Input_ y_Target_Variable.\n",
        "y = df2\t\t\t\t\n",
        "\n",
        "\n",
        "# Feature Scaling for input features.\n",
        "scaler = preprocessing.MinMaxScaler()\n",
        "x_scaled = scaler.fit_transform(x)\n",
        "\n",
        "# Create classifier object.\n",
        "lr = linear_model.LogisticRegression()\n",
        "\n",
        "# Create StratifiedKFold object.\n",
        "skf = StratifiedKFold(n_splits=20, shuffle=True, random_state=1)\n",
        "lst_accu_stratified = []\n",
        "\n",
        "for train_index, test_index in skf.split(x, y):\n",
        "\tx_train_fold, x_test_fold = x_scaled[train_index], x_scaled[test_index]\n",
        "\ty_train_fold, y_test_fold = y[train_index], y[test_index]\n",
        "\tlr.fit(x_train_fold, y_train_fold)\n",
        "\tlst_accu_stratified.append(lr.score(x_test_fold, y_test_fold))\n",
        "\n",
        "# Print the output.\n",
        "print('List of possible accuracy:', lst_accu_stratified)\n",
        "print('\\nMaximum Accuracy That can be obtained from this model is:',\n",
        "\tmax(lst_accu_stratified)*100, '%')\n",
        "print('\\nMinimum Accuracy:',\n",
        "\tmin(lst_accu_stratified)*100, '%')\n",
        "print('\\nOverall Accuracy:',\n",
        "\tmean(lst_accu_stratified)*100, '%')\n",
        "print('\\nStandard Deviation is:', stdev(lst_accu_stratified))\n",
        "'''"
      ],
      "metadata": {
        "colab": {
          "base_uri": "https://localhost:8080/",
          "height": 140
        },
        "id": "AgjQ9wyJM40k",
        "outputId": "b486fb32-4cf5-4d87-ac1a-4aeb2c47bdee"
      },
      "execution_count": null,
      "outputs": [
        {
          "output_type": "execute_result",
          "data": {
            "text/plain": [
              "\"\\n# This code may not be run on GFG IDE\\n# as required packages are not found.\\n\\t\\n# STRATIFIES K-FOLD CROSS VALIDATION { 10-fold }\\n\\n# Import Required Modules.\\nfrom statistics import mean, stdev\\nfrom sklearn import preprocessing\\nfrom sklearn.model_selection import StratifiedKFold\\nfrom sklearn import linear_model\\n\\n\\n\\n# Input_x_Features.\\nx = df1\\t\\t\\t\\t\\t\\t\\n\\n# Input_ y_Target_Variable.\\ny = df2\\t\\t\\t\\t\\n\\n\\n# Feature Scaling for input features.\\nscaler = preprocessing.MinMaxScaler()\\nx_scaled = scaler.fit_transform(x)\\n\\n# Create classifier object.\\nlr = linear_model.LogisticRegression()\\n\\n# Create StratifiedKFold object.\\nskf = StratifiedKFold(n_splits=20, shuffle=True, random_state=1)\\nlst_accu_stratified = []\\n\\nfor train_index, test_index in skf.split(x, y):\\n\\tx_train_fold, x_test_fold = x_scaled[train_index], x_scaled[test_index]\\n\\ty_train_fold, y_test_fold = y[train_index], y[test_index]\\n\\tlr.fit(x_train_fold, y_train_fold)\\n\\tlst_accu_stratified.append(lr.score(x_test_fold, y_test_fold))\\n\\n# Print the output.\\nprint('List of possible accuracy:', lst_accu_stratified)\\nprint('\\nMaximum Accuracy That can be obtained from this model is:',\\n\\tmax(lst_accu_stratified)*100, '%')\\nprint('\\nMinimum Accuracy:',\\n\\tmin(lst_accu_stratified)*100, '%')\\nprint('\\nOverall Accuracy:',\\n\\tmean(lst_accu_stratified)*100, '%')\\nprint('\\nStandard Deviation is:', stdev(lst_accu_stratified))\\n\""
            ],
            "application/vnd.google.colaboratory.intrinsic+json": {
              "type": "string"
            }
          },
          "metadata": {},
          "execution_count": 70
        }
      ]
    },
    {
      "cell_type": "markdown",
      "source": [
        "#Decision Tree"
      ],
      "metadata": {
        "id": "zDJz5Nkhkr8y"
      }
    },
    {
      "cell_type": "code",
      "source": [
        "import pandas\n",
        "from sklearn import tree\n",
        "import pydotplus\n",
        "from sklearn.tree import DecisionTreeClassifier\n",
        "import matplotlib.pyplot as plt\n",
        "import matplotlib.image as pltimg\n",
        "from sklearn.model_selection import train_test_split\n",
        "dtree = DecisionTreeClassifier()\n",
        "X_train, X_test, y_train, y_test = train_test_split(X, y, test_size = 0.3, random_state = 100)\n",
        "dtree = dtree.fit(X_train, y_train)\n",
        "features=list(X.columns)\n",
        "data = tree.export_graphviz(dtree, out_file=None, feature_names=features)\n",
        "graph = pydotplus.graph_from_dot_data(data)\n",
        "graph.write_png('mydecisiontree.png')\n",
        "\n",
        "img=pltimg.imread('mydecisiontree.png')\n",
        "imgplot = plt.imshow(img)\n",
        "plt.show()\n"
      ],
      "metadata": {
        "colab": {
          "base_uri": "https://localhost:8080/",
          "height": 269
        },
        "id": "rFhV42BlO_SR",
        "outputId": "49d66873-a2e4-4731-c33d-84ae699b1456"
      },
      "execution_count": null,
      "outputs": [
        {
          "output_type": "display_data",
          "data": {
            "text/plain": [
              "<Figure size 432x288 with 1 Axes>"
            ],
            "image/png": "[encoded data removed]"
          },
          "metadata": {
            "needs_background": "light"
          }
        }
      ]
    },
    {
      "cell_type": "code",
      "source": [],
      "metadata": {
        "id": "3F8U-WGX3-Mr"
      },
      "execution_count": null,
      "outputs": []
    },
    {
      "cell_type": "code",
      "source": [],
      "metadata": {
        "colab": {
          "base_uri": "https://localhost:8080/",
          "height": 140
        },
        "outputId": "f9250f0a-57a4-40d6-8f9a-39376123f39b",
        "id": "opupjE-g3-_z"
      },
      "execution_count": null,
      "outputs": [
        {
          "output_type": "execute_result",
          "data": {
            "text/plain": [
              "\"\\n# This code may not be run on GFG IDE\\n# as required packages are not found.\\n\\t\\n# STRATIFIES K-FOLD CROSS VALIDATION { 10-fold }\\n\\n# Import Required Modules.\\nfrom statistics import mean, stdev\\nfrom sklearn import preprocessing\\nfrom sklearn.model_selection import StratifiedKFold\\nfrom sklearn import linear_model\\n\\n\\n\\n# Input_x_Features.\\nx = df1\\t\\t\\t\\t\\t\\t\\n\\n# Input_ y_Target_Variable.\\ny = df2\\t\\t\\t\\t\\n\\n\\n# Feature Scaling for input features.\\nscaler = preprocessing.MinMaxScaler()\\nx_scaled = scaler.fit_transform(x)\\n\\n# Create classifier object.\\nlr = linear_model.LogisticRegression()\\n\\n# Create StratifiedKFold object.\\nskf = StratifiedKFold(n_splits=20, shuffle=True, random_state=1)\\nlst_accu_stratified = []\\n\\nfor train_index, test_index in skf.split(x, y):\\n\\tx_train_fold, x_test_fold = x_scaled[train_index], x_scaled[test_index]\\n\\ty_train_fold, y_test_fold = y[train_index], y[test_index]\\n\\tlr.fit(x_train_fold, y_train_fold)\\n\\tlst_accu_stratified.append(lr.score(x_test_fold, y_test_fold))\\n\\n# Print the output.\\nprint('List of possible accuracy:', lst_accu_stratified)\\nprint('\\nMaximum Accuracy That can be obtained from this model is:',\\n\\tmax(lst_accu_stratified)*100, '%')\\nprint('\\nMinimum Accuracy:',\\n\\tmin(lst_accu_stratified)*100, '%')\\nprint('\\nOverall Accuracy:',\\n\\tmean(lst_accu_stratified)*100, '%')\\nprint('\\nStandard Deviation is:', stdev(lst_accu_stratified))\\n\""
            ],
            "application/vnd.google.colaboratory.intrinsic+json": {
              "type": "string"
            }
          },
          "metadata": {},
          "execution_count": 1
        }
      ]
    },
    {
      "cell_type": "code",
      "source": [
        "\n",
        "ypred = dtree.predict(X_test)\n",
        "from sklearn.metrics import accuracy_score\n",
        "accuracy_score(y_test,ypred)"
      ],
      "metadata": {
        "colab": {
          "base_uri": "https://localhost:8080/",
          "height": 217
        },
        "id": "bHc6XTbSQBgW",
        "outputId": "fd9fe69a-57e0-4255-e872-245415c1aa22"
      },
      "execution_count": null,
      "outputs": [
        {
          "output_type": "error",
          "ename": "NameError",
          "evalue": "ignored",
          "traceback": [
            "\u001b[0;31m---------------------------------------------------------------------------\u001b[0m",
            "\u001b[0;31mNameError\u001b[0m                                 Traceback (most recent call last)",
            "\u001b[0;32m<ipython-input-2-4ff21310fe82>\u001b[0m in \u001b[0;36m<module>\u001b[0;34m()\u001b[0m\n\u001b[1;32m      1\u001b[0m \u001b[0;34m\u001b[0m\u001b[0m\n\u001b[0;32m----> 2\u001b[0;31m \u001b[0mypred\u001b[0m \u001b[0;34m=\u001b[0m \u001b[0mdtree\u001b[0m\u001b[0;34m.\u001b[0m\u001b[0mpredict\u001b[0m\u001b[0;34m(\u001b[0m\u001b[0mX_test\u001b[0m\u001b[0;34m)\u001b[0m\u001b[0;34m\u001b[0m\u001b[0;34m\u001b[0m\u001b[0m\n\u001b[0m\u001b[1;32m      3\u001b[0m \u001b[0;32mfrom\u001b[0m \u001b[0msklearn\u001b[0m\u001b[0;34m.\u001b[0m\u001b[0mmetrics\u001b[0m \u001b[0;32mimport\u001b[0m \u001b[0maccuracy_score\u001b[0m\u001b[0;34m\u001b[0m\u001b[0;34m\u001b[0m\u001b[0m\n\u001b[1;32m      4\u001b[0m \u001b[0maccuracy_score\u001b[0m\u001b[0;34m(\u001b[0m\u001b[0my_test\u001b[0m\u001b[0;34m,\u001b[0m\u001b[0mypred\u001b[0m\u001b[0;34m)\u001b[0m\u001b[0;34m\u001b[0m\u001b[0;34m\u001b[0m\u001b[0m\n",
            "\u001b[0;31mNameError\u001b[0m: name 'dtree' is not defined"
          ]
        }
      ]
    },
    {
      "cell_type": "code",
      "source": [
        "from sklearn.metrics import confusion_matrix\n",
        "cm = confusion_matrix(y_test, ypred)\n",
        "print(cm)"
      ],
      "metadata": {
        "colab": {
          "base_uri": "https://localhost:8080/"
        },
        "id": "sVITurWsQdum",
        "outputId": "84cf35b5-2311-403a-87b6-40f7fc2bd60f"
      },
      "execution_count": null,
      "outputs": [
        {
          "output_type": "stream",
          "name": "stdout",
          "text": [
            "[[115   9]\n",
            " [  0 122]]\n"
          ]
        }
      ]
    },
    {
      "cell_type": "code",
      "source": [],
      "metadata": {
        "id": "l7MWU5lROH-X"
      },
      "execution_count": null,
      "outputs": []
    }
  ]
}